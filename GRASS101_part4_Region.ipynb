{
 "cells": [
  {
   "cell_type": "markdown",
   "id": "fae27ba4-fcc8-47d1-8470-e50c40263a81",
   "metadata": {},
   "source": [
    "# GRASS GIS 101: Computational Region\n",
    "\n",
    "In this notebooks, we'll learn how to use Computational Regions. \n",
    "\n",
    "<div class=\"alert alert-info\">\n",
    "A computational region defines the spatial extent and resolution over which any GRASS tool is applied, thereby avoiding the need to clip or resample data and allowing for fast workflow scaling.\n",
    "</div>"
   ]
  },
  {
   "cell_type": "markdown",
   "id": "a1f4f1e4-8aa6-43f8-b552-d2f5b3a9bdc8",
   "metadata": {},
   "source": [
    "## Start GRASS GIS"
   ]
  },
  {
   "cell_type": "code",
   "execution_count": null,
   "id": "4506277c-8a3b-4257-8549-34d576fd33e1",
   "metadata": {},
   "outputs": [],
   "source": [
    "import subprocess\n",
    "import sys\n",
    "\n",
    "# FOR WINDOWS:\n",
    "# grass_call = \"grass82\"\n",
    "# shell_setting = True\n",
    "\n",
    "# FOR MAC/LINUX\n",
    "grass_call = \"grass\"\n",
    "shell_setting = False\n",
    "\n",
    "sys.path.append(\n",
    "    subprocess.check_output([\"grass\", \"--config\", \"python_path\"], text=True).strip()\n",
    ")\n",
    "\n",
    "# Import the GRASS GIS packages we need.\n",
    "import grass.script as gs\n",
    "import grass.jupyter as gj\n",
    "\n",
    "# Start GRASS Session\n",
    "session = gj.init(\"./dix_park/PERMANENT\")"
   ]
  },
  {
   "cell_type": "markdown",
   "id": "37bd4774-cfab-4c4a-85d1-a3fef8aaae6e",
   "metadata": {},
   "source": [
    "## Exploring Computational Regions"
   ]
  },
  {
   "cell_type": "markdown",
   "id": "e80fc1f7-c89e-485c-ab28-8f9205dc11ef",
   "metadata": {},
   "source": [
    "Let's see what the current computation region is"
   ]
  },
  {
   "cell_type": "code",
   "execution_count": null,
   "id": "c6593743-8e11-49d0-b354-815dc5049d49",
   "metadata": {},
   "outputs": [],
   "source": [
    "!g.region -p"
   ]
  },
  {
   "cell_type": "markdown",
   "id": "693c8354-838f-4b6b-9a21-f98c8009d56f",
   "metadata": {},
   "source": [
    "And the resolution of our ground raster:"
   ]
  },
  {
   "cell_type": "code",
   "execution_count": null,
   "id": "7594545c-c697-47cb-8bfb-897297a40b80",
   "metadata": {},
   "outputs": [],
   "source": [
    "!r.info ground"
   ]
  },
  {
   "cell_type": "markdown",
   "id": "98730471-1683-47ef-9de0-8dd63b1f7109",
   "metadata": {},
   "source": [
    "If we change the resolution of our computational region, does it also change the ground resolution?"
   ]
  },
  {
   "cell_type": "code",
   "execution_count": null,
   "id": "971085a7-7b54-420c-a5b6-903a10b2d2de",
   "metadata": {},
   "outputs": [],
   "source": [
    "!g.region res=30\n",
    "!r.info ground"
   ]
  },
  {
   "cell_type": "markdown",
   "id": "cc529f4b-bc27-423c-acd1-c2a95b97512f",
   "metadata": {},
   "source": [
    "We used the `res` keyword argument to change the resolution to 30m. Use the `--help` flag to see what other parameters are available in `g.region`. What does the `-p` flag do? "
   ]
  },
  {
   "cell_type": "markdown",
   "id": "c3ed0cc0-95a8-43eb-9290-3ae432b89f38",
   "metadata": {},
   "source": []
  },
  {
   "cell_type": "markdown",
   "id": "a89aac95-6312-47ca-a41c-6212bc63a002",
   "metadata": {},
   "source": [
    "Let's change the region to a very small square:"
   ]
  },
  {
   "cell_type": "code",
   "execution_count": null,
   "id": "55887e13-65a5-45fe-967b-43d7f27061e2",
   "metadata": {},
   "outputs": [],
   "source": [
    "!g.region n=n-7650 s=s+7650 e=e-6400 w=w+6400"
   ]
  },
  {
   "cell_type": "markdown",
   "id": "6bc3f6e0-a053-458e-be6e-ed433bd6880c",
   "metadata": {},
   "source": [
    "How many cells are in this square? Whats the resolution?"
   ]
  },
  {
   "cell_type": "markdown",
   "id": "6b8902e2-96ca-4756-a314-49cb3cd8b645",
   "metadata": {},
   "source": []
  },
  {
   "cell_type": "markdown",
   "id": "ef7226ff-60fd-42af-bbf0-e10ef1d78299",
   "metadata": {},
   "source": [
    "What happens if you set the resolution to a value that doesn't divide evenly into the extent of the region?"
   ]
  },
  {
   "cell_type": "code",
   "execution_count": null,
   "id": "829bd521-1d68-4677-8611-d967d90059ee",
   "metadata": {},
   "outputs": [],
   "source": []
  },
  {
   "cell_type": "markdown",
   "id": "da23ec87-e570-47e1-b8c1-bc2e63de9f97",
   "metadata": {},
   "source": [
    "Change it to a value that does divide evenly (i.e. 2, 10, 30..)"
   ]
  },
  {
   "cell_type": "code",
   "execution_count": null,
   "id": "28ed1c22-87e4-4750-8092-ab693fe69590",
   "metadata": {},
   "outputs": [],
   "source": []
  },
  {
   "cell_type": "markdown",
   "id": "c1012b71-edcc-40e2-9a7e-ffa672f168c0",
   "metadata": {},
   "source": [
    "Now we'll create a random surface. What's the resolution and number of cells in the random surface?"
   ]
  },
  {
   "cell_type": "code",
   "execution_count": null,
   "id": "315ec2b0-1d9b-43b8-9dbb-d0d1db904146",
   "metadata": {},
   "outputs": [],
   "source": [
    "!r.surf.random -i output=random\n",
    "!r.info random"
   ]
  },
  {
   "cell_type": "markdown",
   "id": "e21b242a-7d10-42ac-81e0-23b3e1d8d3af",
   "metadata": {},
   "source": [
    "Now let's use the ground raster to compute slope. Does the resolution and extent of the slope raster match the computational region or the ground raster?"
   ]
  },
  {
   "cell_type": "code",
   "execution_count": null,
   "id": "a8887143-52af-417a-8977-fae3719628a6",
   "metadata": {},
   "outputs": [],
   "source": [
    "!r.slope.aspect elevation=ground slope=slope"
   ]
  },
  {
   "cell_type": "markdown",
   "id": "58402202-cc87-4778-9448-b91200c6a38c",
   "metadata": {},
   "source": [
    "If the resolution of the ground raster and computational region are different, GRASS GIS resamples the ground raster using nearest neighbor (this occurs as it indexes through the cell values sampling at the resolution of the computational region). If this method is not preferred, the ground raster could be resampled with a different method by running r.resamp.interp."
   ]
  },
  {
   "cell_type": "markdown",
   "id": "037d802e-f9e6-4730-b54c-2aa8ce929fcd",
   "metadata": {},
   "source": [
    "### In summary\n",
    "Computational region is an important raster concept in GRASS GIS, that allows you to fully control the extent and resolution of your raster computations.\n",
    "All raster computations will be performed in the specified extent and with the given resolution to ensure consistency.\n",
    "Among other things, computational region allows us to easily subset larger extent data for quicker testing of analysis, or to run an analysis of specific regions given by e.g. administrative units.\n",
    "\n",
    "A few points to keep in mind:\n",
    "\n",
    " * computational region is defined by region extent and raster resolution\n",
    " * applies to all raster operations and vector to raster operations\n",
    " * persists between GRASS sessions, can be different for different mapsets (subprojects)\n",
    " * advantages: keeps your results consistent, avoids clipping, for computationally demanding tasks set region to smaller extent, check that your result is good and then set the computational region to the entire study area and rerun analysis\n",
    " "
   ]
  },
  {
   "cell_type": "markdown",
   "id": "68336dbb-76a0-417b-ac98-b563359185a0",
   "metadata": {},
   "source": [
    "### Some exercises to try other `g.region` options:"
   ]
  },
  {
   "cell_type": "markdown",
   "id": "5e462f97-e06c-419d-920c-064eb2ed90c4",
   "metadata": {},
   "source": [
    "1. Save the current computational region"
   ]
  },
  {
   "cell_type": "code",
   "execution_count": null,
   "id": "8b7c1d21-cc99-4c5a-9528-e6be778b5bad",
   "metadata": {},
   "outputs": [],
   "source": []
  },
  {
   "cell_type": "markdown",
   "id": "ffb29408-53c0-448b-99fa-006d1c5b7542",
   "metadata": {},
   "source": [
    "2. Switch to a computational region that matches the extent and resolution of the ground raster"
   ]
  },
  {
   "cell_type": "code",
   "execution_count": null,
   "id": "90bd0a47-6518-439c-a12b-266820217fa2",
   "metadata": {},
   "outputs": [],
   "source": []
  },
  {
   "cell_type": "markdown",
   "id": "94c3249c-45bd-4c65-8b7b-50c46e6efc72",
   "metadata": {},
   "source": [
    "3. Switch to a computational region that has the extent of the `roads` vector but has cells aligned with the `ground` raster"
   ]
  },
  {
   "cell_type": "code",
   "execution_count": null,
   "id": "1fc0c260-1cdd-494d-bdf4-8a9031ceadfc",
   "metadata": {},
   "outputs": [],
   "source": []
  },
  {
   "cell_type": "markdown",
   "id": "f7e81159-51b6-4072-90c6-b26c8df28488",
   "metadata": {},
   "source": [
    "4. Switch back to the region saved in exercise 1"
   ]
  },
  {
   "cell_type": "code",
   "execution_count": null,
   "id": "fbbbfec4-9bc3-4d3d-83e0-1ad7c23c503a",
   "metadata": {},
   "outputs": [],
   "source": []
  }
 ],
 "metadata": {
  "kernelspec": {
   "display_name": "Python 3 (ipykernel)",
   "language": "python",
   "name": "python3"
  },
  "language_info": {
   "codemirror_mode": {
    "name": "ipython",
    "version": 3
   },
   "file_extension": ".py",
   "mimetype": "text/x-python",
   "name": "python",
   "nbconvert_exporter": "python",
   "pygments_lexer": "ipython3",
   "version": "3.8.10"
  }
 },
 "nbformat": 4,
 "nbformat_minor": 5
}
